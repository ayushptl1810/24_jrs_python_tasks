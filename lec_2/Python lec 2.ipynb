{
  "nbformat": 4,
  "nbformat_minor": 0,
  "metadata": {
    "colab": {
      "provenance": []
    },
    "kernelspec": {
      "name": "python3",
      "display_name": "Python 3"
    },
    "language_info": {
      "name": "python"
    }
  },
  "cells": [
    {
      "cell_type": "markdown",
      "source": [
        "create a function and accept even integers in a list then return the list and print it outsdie"
      ],
      "metadata": {
        "id": "X84GnaSN6I4R"
      }
    },
    {
      "cell_type": "code",
      "source": [
        "def listcall():\n",
        "  l = []\n",
        "  n = int(input(\"Enter number of elements: \"))\n",
        "  print(\"Enter even numbers: \")\n",
        "  while n != 0:\n",
        "    x = int(input())\n",
        "    if(x % 2 == 0):\n",
        "      l.append(x)\n",
        "      n -= 1\n",
        "  return l\n",
        "\n",
        "print(listcall())"
      ],
      "metadata": {
        "colab": {
          "base_uri": "https://localhost:8080/"
        },
        "id": "NCFQ-A4-4vAX",
        "outputId": "9f2815ad-39c4-4e3f-8944-2a747d2c87e4"
      },
      "execution_count": null,
      "outputs": [
        {
          "output_type": "stream",
          "name": "stdout",
          "text": [
            "Enter number of elements: 5\n",
            "Enter even numbers: \n",
            "3\n",
            "4\n",
            "4\n",
            "5\n",
            "4\n",
            "4\n",
            "4\n",
            "[4, 4, 4, 4, 4]\n"
          ]
        }
      ]
    },
    {
      "cell_type": "markdown",
      "source": [
        "take a string count consonants and print the number"
      ],
      "metadata": {
        "id": "-ziJ2Lbx-Xhm"
      }
    },
    {
      "cell_type": "code",
      "source": [
        "def count_char(s):\n",
        "    count_consonants = 0\n",
        "    count_vowels = 0\n",
        "    vowels = ['a', 'e', 'i', 'o', 'u']\n",
        "    for letter in s:\n",
        "        if letter.isalpha():\n",
        "          letter = letter.lower()\n",
        "          if letter in vowels:\n",
        "              count_vowels += 1\n",
        "          else:\n",
        "              count_consonants += 1\n",
        "    return count_consonants, count_vowels\n",
        "\n",
        "s = input(\"Enter a string: \")\n",
        "print(\"consonants, vowels = \")\n",
        "print(count_char(s))\n"
      ],
      "metadata": {
        "colab": {
          "base_uri": "https://localhost:8080/"
        },
        "id": "pWncdnb--Wrn",
        "outputId": "8d2121f1-f2b2-44d7-d3e2-6ca6c01c3fbd"
      },
      "execution_count": null,
      "outputs": [
        {
          "output_type": "stream",
          "name": "stdout",
          "text": [
            "Enter a string: heLLo aYUs=+=h\n",
            "consonants, vowels = \n",
            "(6, 4)\n"
          ]
        }
      ]
    },
    {
      "cell_type": "markdown",
      "source": [
        "take a list of words and display the longest word in the list. if there are multiple words with same length then return the first word\n"
      ],
      "metadata": {
        "id": "Gv3r2ENzHO8P"
      }
    },
    {
      "cell_type": "code",
      "source": [
        "def longest_word(l):\n",
        "  max_length = 0\n",
        "  index = 0\n",
        "  count = 0\n",
        "\n",
        "  for word in l:\n",
        "    if(len(word) > max_length):\n",
        "      max_length = len(word)\n",
        "      index = count\n",
        "\n",
        "    count += 1\n",
        "  return l[index]\n",
        "\n",
        "l = []\n",
        "n = int(input(\"Enter length of list: \"))\n",
        "\n",
        "for i in range(n):\n",
        "  s = input()\n",
        "  l.append(s)\n",
        "\n",
        "print('longest word is: ')\n",
        "print(longest_word(l))\n",
        "\n"
      ],
      "metadata": {
        "colab": {
          "base_uri": "https://localhost:8080/"
        },
        "id": "ZMMZ-tbNKHNS",
        "outputId": "8a770b98-6edf-4624-cd6c-e85202172077"
      },
      "execution_count": null,
      "outputs": [
        {
          "output_type": "stream",
          "name": "stdout",
          "text": [
            "Enter length of list: 5\n",
            "hello\n",
            "HELLO\n",
            "h3ll0\n",
            "hi\n",
            "bye\n",
            "longest word is: \n",
            "hello\n"
          ]
        }
      ]
    },
    {
      "cell_type": "markdown",
      "source": [
        "Leetcode Q1: Given an array nums of size n, return the majority element.\n",
        "The majority element is the element that appears more than ⌊n / 2⌋ times. You may assume that the majority element always exists in the array."
      ],
      "metadata": {
        "id": "LVgAs_x-wSJC"
      }
    },
    {
      "cell_type": "code",
      "source": [
        "class Solution(object):\n",
        "    def majorityElement(self, nums):\n",
        "        max_count = {}\n",
        "        for elem in nums:\n",
        "            if elem in max_count:\n",
        "                max_count[elem] += 1\n",
        "            else:\n",
        "                max_count[elem] = 1\n",
        "            if max_count[elem] >= len(nums)//2 + 1 :\n",
        "                return elem"
      ],
      "metadata": {
        "id": "Qr5OIt6KwV2t"
      },
      "execution_count": 3,
      "outputs": []
    },
    {
      "cell_type": "markdown",
      "source": [
        "Leetcode Q2: Given two strings ransomNote and magazine, return true if ransomNote can be constructed by using the letters from magazine and false otherwise. Each letter in magazine can only be used once in ransomNote."
      ],
      "metadata": {
        "id": "DSGcDFiKzmmD"
      }
    },
    {
      "cell_type": "code",
      "source": [
        "class Solution(object):\n",
        "    def canConstruct(self, ransomNote, magazine):\n",
        "        if len(ransomNote) > len(magazine):\n",
        "            return False\n",
        "\n",
        "        alpha_count = {}\n",
        "        for char in magazine:\n",
        "            if char in alpha_count:\n",
        "                alpha_count[char] += 1\n",
        "            else:\n",
        "                alpha_count[char] = 1\n",
        "\n",
        "        for char in ransomNote:\n",
        "            if char in alpha_count and alpha_count[char] > 0:\n",
        "                alpha_count[char] -= 1\n",
        "            else:\n",
        "                return False\n",
        "        return True"
      ],
      "metadata": {
        "id": "xgsUBSmLzm4M"
      },
      "execution_count": null,
      "outputs": []
    },
    {
      "cell_type": "markdown",
      "source": [
        "Leetcode Q3: Given a string s, find the first non-repeating character in it and return its index. If it does not exist, return -1.\n"
      ],
      "metadata": {
        "id": "IWi_I0USzwwO"
      }
    },
    {
      "cell_type": "code",
      "source": [
        "class Solution(object):\n",
        "    def firstUniqChar(self, s):\n",
        "        char_dict = {}\n",
        "        index = 0\n",
        "        if(len(s) == 1):\n",
        "            return 0\n",
        "\n",
        "        for word in s:\n",
        "            if word in char_dict:\n",
        "                char_dict[word] += 1\n",
        "            else:\n",
        "                char_dict[word] = 1\n",
        "\n",
        "        for word in s:\n",
        "            if char_dict[word] == 1:\n",
        "                return index\n",
        "            index += 1\n",
        "        return -1"
      ],
      "metadata": {
        "id": "BV-ZHMLQz4bA"
      },
      "execution_count": null,
      "outputs": []
    }
  ]
}